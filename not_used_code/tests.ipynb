{
 "cells": [
  {
   "cell_type": "code",
   "execution_count": 5,
   "id": "9d97687f",
   "metadata": {},
   "outputs": [],
   "source": [
    "import json\n",
    "import random\n",
    "from datetime import datetime, timedelta\n",
    "from faker import Faker\n",
    "from google.cloud import storage\n",
    "import re"
   ]
  },
  {
   "cell_type": "code",
   "execution_count": null,
   "id": "61e68d80",
   "metadata": {},
   "outputs": [
    {
     "name": "stdout",
     "output_type": "stream",
     "text": [
      "Listing files in bucket: 'transactions_raw_data' (prefix: 'None')\n"
     ]
    },
    {
     "data": {
      "text/plain": [
       "['2025-01-04',\n",
       " '2025-01-05',\n",
       " '2025-01-06',\n",
       " '2025-01-07',\n",
       " '2025-01-08',\n",
       " '2025-01-09',\n",
       " '2025-01-10']"
      ]
     },
     "execution_count": 8,
     "metadata": {},
     "output_type": "execute_result"
    }
   ],
   "source": [
    "def list_gcs_files_dates(bucket_name, GCS_client, prefix=None):\n",
    "\n",
    "    file_names_dates = []\n",
    "    blobs = GCS_client.list_blobs(bucket_name, prefix=prefix)\n",
    "\n",
    "    print(f\"Listing files in bucket: '{bucket_name}' (prefix: '{prefix if prefix else 'None'}')\")\n",
    "    for blob in blobs:\n",
    "        match = re.search(r\"transactions_(\\d{4}-\\d{2}-\\d{2})\\.json\", blob.name)\n",
    "        if match:    \n",
    "            date_str = match.group(1)\n",
    "            file_names_dates.append(date_str)\n",
    "        else:\n",
    "            pass\n",
    "    return file_names_dates\n",
    "\n",
    "BUCKET_NAME = 'transactions_raw_data'\n",
    "client = storage.Client()\n",
    "list_gcs_files_dates(BUCKET_NAME, client)"
   ]
  },
  {
   "cell_type": "code",
   "execution_count": null,
   "id": "f7f29d80",
   "metadata": {},
   "outputs": [],
   "source": []
  },
  {
   "cell_type": "code",
   "execution_count": null,
   "id": "b4b57c66",
   "metadata": {},
   "outputs": [],
   "source": []
  },
  {
   "cell_type": "code",
   "execution_count": null,
   "id": "0548bd6f",
   "metadata": {},
   "outputs": [],
   "source": []
  },
  {
   "cell_type": "code",
   "execution_count": 117,
   "id": "27475c62",
   "metadata": {},
   "outputs": [],
   "source": [
    "fake = Faker('en_US') "
   ]
  },
  {
   "cell_type": "code",
   "execution_count": 48,
   "id": "bcd6b934",
   "metadata": {},
   "outputs": [
    {
     "name": "stdout",
     "output_type": "stream",
     "text": [
      "SparkSession created successfully.\n",
      "\n",
      "Successfully loaded BigQuery table: dataproc-spark-461405.financial_transactions.customer_profile_scd2\n",
      "Changing 1 customers info\n"
     ]
    },
    {
     "name": "stderr",
     "output_type": "stream",
     "text": [
      "                                                                                \r"
     ]
    },
    {
     "name": "stdout",
     "output_type": "stream",
     "text": [
      "\n",
      "SparkSession stopped.\n"
     ]
    }
   ],
   "source": [
    "customers_to_change_info = fetch_random_customers_for_info_change()"
   ]
  },
  {
   "cell_type": "code",
   "execution_count": 51,
   "id": "a1d14fb6",
   "metadata": {},
   "outputs": [
    {
     "data": {
      "text/plain": [
       "[{'customer_id': 'CUST_SQL_002',\n",
       "  'customer_name': 'Bob Johnson',\n",
       "  'customer_address': '456 Oak Ave',\n",
       "  'customer_city': 'Shelbyville',\n",
       "  'customer_state': 'KY',\n",
       "  'customer_zip': '40065',\n",
       "  'customer_tier': 'Silver',\n",
       "  'customer_email': 'bob.johnson@example.com',\n",
       "  'valid_from': datetime.date(2025, 5, 30),\n",
       "  'valid_to': datetime.date(9999, 12, 31),\n",
       "  'is_current': True}]"
      ]
     },
     "execution_count": 51,
     "metadata": {},
     "output_type": "execute_result"
    }
   ],
   "source": [
    "customers_to_change_info"
   ]
  },
  {
   "cell_type": "code",
   "execution_count": 81,
   "id": "64f48c4d",
   "metadata": {},
   "outputs": [],
   "source": [
    "NUM_CUSTOMERS = random.randint(50,200)\n",
    "TRANSACTIONS_PER_DAY_PER_CUSTOMER = random.randint(1,3)\n",
    "\n",
    "customer_attributes = [\"customer_id\",\n",
    "                       \"customer_name\",\n",
    "                       \"customer_address\",\n",
    "                       \"customer_city\",\n",
    "                       \"customer_state\",\n",
    "                       \"customer_zip\",\n",
    "                       \"customer_tier\",\n",
    "                       \"customer_email\"]"
   ]
  },
  {
   "cell_type": "code",
   "execution_count": null,
   "id": "5a409f7c",
   "metadata": {},
   "outputs": [
    {
     "name": "stdout",
     "output_type": "stream",
     "text": [
      "Orginal\n",
      "{'customer_id': 'CUST_SQL_002', 'customer_name': 'Richard Dorsey', 'customer_address': '9451 Parker Extensions Suite 008', 'customer_city': 'Ashleyton', 'customer_state': 'OH', 'customer_zip': '27719', 'customer_tier': 'Bronze', 'customer_email': 'ntaylor@example.com', 'valid_from': datetime.date(2025, 5, 30), 'valid_to': datetime.date(9999, 12, 31), 'is_current': True}\n",
      "Changed\n",
      "{'customer_id': 'CUST_SQL_002', 'customer_name': 'Richard Dorsey', 'customer_address': '9451 Parker Extensions Suite 008', 'customer_city': 'North Anthony', 'customer_state': 'OH', 'customer_zip': '09387', 'customer_tier': 'Gold', 'customer_email': 'ntaylor@example.com', 'valid_from': datetime.date(2025, 5, 30), 'valid_to': datetime.date(9999, 12, 31), 'is_current': True}\n"
     ]
    }
   ],
   "source": [
    "# Fetch a random sample of custumers that info will change\n",
    "\n",
    "for cust in customers_to_change_info:\n",
    "    atributes_to_change = random.sample(customer_attributes, random.randint(2, len(customer_attributes)))\n",
    "    atributes_to_change = [a for a in atributes_to_change if a not in ['customer_id','customer_name'] ]\n",
    "    print('Orginal')\n",
    "    print(cust)\n",
    "    # -- Change attributes to something else --\n",
    "    staging_attributes = {\"customer_name\": fake.name(),\n",
    "                         \"customer_address\": fake.street_address(),\n",
    "                         \"customer_city\": fake.city(),\n",
    "                         \"customer_state\": fake.state_abbr(),\n",
    "                        \"customer_zip\": fake.postcode(),\n",
    "                        \"customer_tier\": random.choice(['Bronze', 'Silver', 'Gold', 'Platinum']),\n",
    "                        \"customer_email\": fake.email()\n",
    "    }\n",
    "\n",
    "    for att in atributes_to_change:\n",
    "        cust[att] = staging_attributes[att]\n",
    "    print('Changed')\n",
    "    print(cust)\n"
   ]
  }
 ],
 "metadata": {
  "kernelspec": {
   "display_name": ".cloud_run",
   "language": "python",
   "name": "python3"
  },
  "language_info": {
   "codemirror_mode": {
    "name": "ipython",
    "version": 3
   },
   "file_extension": ".py",
   "mimetype": "text/x-python",
   "name": "python",
   "nbconvert_exporter": "python",
   "pygments_lexer": "ipython3",
   "version": "3.12.8"
  }
 },
 "nbformat": 4,
 "nbformat_minor": 5
}
